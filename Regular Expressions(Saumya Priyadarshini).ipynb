{
 "cells": [
  {
   "cell_type": "code",
   "execution_count": 1,
   "metadata": {},
   "outputs": [],
   "source": [
    "import re"
   ]
  },
  {
   "cell_type": "code",
   "execution_count": 2,
   "metadata": {},
   "outputs": [
    {
     "name": "stdout",
     "output_type": "stream",
     "text": [
      "['12', '32', '9']\n"
     ]
    }
   ],
   "source": [
    "string = \"it is -12, not 32 or 9\"\n",
    "testpattern = \"\\d+\"\n",
    "r = re.findall(testpattern,string)\n",
    "print(r)"
   ]
  },
  {
   "cell_type": "code",
   "execution_count": 3,
   "metadata": {},
   "outputs": [
    {
     "name": "stdout",
     "output_type": "stream",
     "text": [
      "['1', '2', '3', '2', '9']\n"
     ]
    }
   ],
   "source": [
    "test = \"\\d\"\n",
    "p = re.findall(test,string)\n",
    "print(p)"
   ]
  },
  {
   "cell_type": "code",
   "execution_count": 4,
   "metadata": {},
   "outputs": [
    {
     "name": "stdout",
     "output_type": "stream",
     "text": [
      "['x', 'y', 'z', 'q', 'm', 'n', 'o', 'p', 'y']\n"
     ]
    }
   ],
   "source": [
    "string = \"xyzqmanopy\"\n",
    "test = \"[^a-c]\"\n",
    "p= re.findall(test,string)\n",
    "print(p)"
   ]
  },
  {
   "cell_type": "code",
   "execution_count": 5,
   "metadata": {},
   "outputs": [
    {
     "name": "stdout",
     "output_type": "stream",
     "text": [
      "['b', 'h', 'g', 'y', '0', 'u', 'y', 'u']\n"
     ]
    }
   ],
   "source": [
    "string = \"1234bhgy0uyu\"\n",
    "test = \"[^1-9]\"\n",
    "p= re.findall(test,string)\n",
    "print(p)"
   ]
  },
  {
   "cell_type": "code",
   "execution_count": 7,
   "metadata": {},
   "outputs": [
    {
     "name": "stdout",
     "output_type": "stream",
     "text": [
      "[]\n"
     ]
    }
   ],
   "source": [
    "test = \"abc$\"\n",
    "string = \"formula\"\n",
    "p= re.findall(test,string)\n",
    "print(p)"
   ]
  },
  {
   "cell_type": "code",
   "execution_count": 8,
   "metadata": {},
   "outputs": [
    {
     "name": "stdout",
     "output_type": "stream",
     "text": [
      "<callable_iterator object at 0x00000275E2E53280>\n"
     ]
    }
   ],
   "source": [
    "#finditer\n",
    "p = re.finditer(test,string)\n",
    "print(p)"
   ]
  },
  {
   "cell_type": "code",
   "execution_count": 9,
   "metadata": {},
   "outputs": [
    {
     "name": "stdout",
     "output_type": "stream",
     "text": [
      "unsuccessful\n"
     ]
    }
   ],
   "source": [
    "test = \"^a...s$\"\n",
    "string = \"abcdf\"\n",
    "result = re.match(test,string)\n",
    "if result:\n",
    "    print(\"successful\")\n",
    "else:\n",
    "    print(\"unsuccessful\")"
   ]
  },
  {
   "cell_type": "code",
   "execution_count": 11,
   "metadata": {},
   "outputs": [
    {
     "name": "stdout",
     "output_type": "stream",
     "text": [
      "['it is ', ', not 32 or 9']\n"
     ]
    }
   ],
   "source": [
    "#split\n",
    "test = \"\\d+\"\n",
    "string = \"it is 12, not 32 or 9\"\n",
    "result = re.split(test,string,1)\n",
    "print(result)"
   ]
  },
  {
   "cell_type": "code",
   "execution_count": 12,
   "metadata": {},
   "outputs": [
    {
     "name": "stdout",
     "output_type": "stream",
     "text": [
      "it is ten, not ten or ten\n"
     ]
    }
   ],
   "source": [
    "test = \"\\d+\"\n",
    "string = \"it is 12, not 32 or 9\"\n",
    "replace = \"ten\"\n",
    "new_string = re.sub(test,replace,string)\n",
    "print(new_string)"
   ]
  },
  {
   "cell_type": "code",
   "execution_count": 15,
   "metadata": {},
   "outputs": [
    {
     "name": "stdout",
     "output_type": "stream",
     "text": [
      "('it is ten, not ten or ten', 3)\n"
     ]
    }
   ],
   "source": [
    "test = \"\\d+\"\n",
    "string = \"it is 12, not 32 or 9\"\n",
    "replace = \"ten\"\n",
    "new_string = re.subn(test,replace,string)\n",
    "print(new_string)"
   ]
  },
  {
   "cell_type": "code",
   "execution_count": 16,
   "metadata": {},
   "outputs": [
    {
     "name": "stdout",
     "output_type": "stream",
     "text": [
      "not found\n"
     ]
    }
   ],
   "source": [
    "string =\"is an object oriented language\"\n",
    "r = re.search(\"\\Apython\", string)\n",
    "if r:\n",
    "    print(\"found\")\n",
    "else:\n",
    "    print(\"not found\")"
   ]
  },
  {
   "cell_type": "code",
   "execution_count": 14,
   "metadata": {},
   "outputs": [
    {
     "name": "stdout",
     "output_type": "stream",
     "text": [
      "unsuccessful\n"
     ]
    }
   ],
   "source": [
    "test = \"[^0-9]\"\n",
    "string = \"99saumya\"\n",
    "result = re.match(test,string)\n",
    "if result:\n",
    "    print(\"successful\")\n",
    "else:\n",
    "    print(\"unsuccessful\")"
   ]
  },
  {
   "cell_type": "code",
   "execution_count": 13,
   "metadata": {},
   "outputs": [
    {
     "name": "stdout",
     "output_type": "stream",
     "text": [
      "345 12\n"
     ]
    }
   ],
   "source": [
    "string = \"12345 123\"\n",
    "test = \"(\\d{3}) (\\d{2})\"\n",
    "r = re.search(test,string)\n",
    "if r:\n",
    "    print(r.group())\n",
    "else:\n",
    "    print(\"not found\")"
   ]
  }
 ],
 "metadata": {
  "kernelspec": {
   "display_name": "Python 3",
   "language": "python",
   "name": "python3"
  },
  "language_info": {
   "codemirror_mode": {
    "name": "ipython",
    "version": 3
   },
   "file_extension": ".py",
   "mimetype": "text/x-python",
   "name": "python",
   "nbconvert_exporter": "python",
   "pygments_lexer": "ipython3",
   "version": "3.8.5"
  }
 },
 "nbformat": 4,
 "nbformat_minor": 4
}
