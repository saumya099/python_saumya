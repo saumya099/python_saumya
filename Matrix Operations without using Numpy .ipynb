{
 "cells": [
  {
   "cell_type": "code",
   "execution_count": 25,
   "metadata": {},
   "outputs": [
    {
     "name": "stdout",
     "output_type": "stream",
     "text": [
      "[8, 10, 12]\n",
      "[8, 10, 12]\n",
      "[8, 10, 12]\n"
     ]
    }
   ],
   "source": [
    "# Matrix Addition\n",
    "A=[[1,2,3],[4,5,6],[7,8,9]]\n",
    "S=[[7,8,9],[4,5,6],[1,2,3]]\n",
    "result=[[0,0,0],[0,0,0],[0,0,0]]\n",
    "for i in range(len(A)):\n",
    "    for j in range(len(A[0])):\n",
    "        result[i][j]= A[i][j]+S[i][j]\n",
    "for r in result:\n",
    "    print(r)"
   ]
  },
  {
   "cell_type": "code",
   "execution_count": 26,
   "metadata": {},
   "outputs": [
    {
     "name": "stdout",
     "output_type": "stream",
     "text": [
      "[18, 24, 30, 36]\n",
      "[54, 69, 84, 99]\n",
      "[90, 114, 138, 162]\n"
     ]
    }
   ],
   "source": [
    "# Matrix Multiplication\n",
    "A = [[1,2,3],[4,5,6],[7,8,9]]\n",
    "S = [[7,8,9,10],[4,5,6,7],[1,2,3,4]]\n",
    "result=[[0,0,0,0],[0,0,0,0],[0,0,0,0]]\n",
    "for i in range(len(A)):\n",
    "    for j in range(len(S[0])):\n",
    "        for k in range(len(S)):\n",
    "            result[i][j] += A[i][k] * S[k][j]\n",
    "for r in result:\n",
    "    print(r)"
   ]
  },
  {
   "cell_type": "code",
   "execution_count": 28,
   "metadata": {},
   "outputs": [
    {
     "name": "stdout",
     "output_type": "stream",
     "text": [
      "[1, 4, 7]\n",
      "[2, 5, 8]\n",
      "[3, 6, 9]\n"
     ]
    }
   ],
   "source": [
    "# Transpose of a matrix\n",
    "S=[[1,2,3],[4,5,6],[7,8,9]]\n",
    "result=[[0,0,0],[0,0,0],[0,0,0]]\n",
    "for i in range(len(S)):\n",
    "    for j in range(len(S[0])):\n",
    "        result[j][i]=S[i][j]\n",
    "for r in result:\n",
    "    print(r)"
   ]
  }
 ],
 "metadata": {
  "kernelspec": {
   "display_name": "Python 3",
   "language": "python",
   "name": "python3"
  },
  "language_info": {
   "codemirror_mode": {
    "name": "ipython",
    "version": 3
   },
   "file_extension": ".py",
   "mimetype": "text/x-python",
   "name": "python",
   "nbconvert_exporter": "python",
   "pygments_lexer": "ipython3",
   "version": "3.8.5"
  }
 },
 "nbformat": 4,
 "nbformat_minor": 4
}
