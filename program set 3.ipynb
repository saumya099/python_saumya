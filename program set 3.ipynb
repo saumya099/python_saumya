{
 "cells": [
  {
   "cell_type": "code",
   "execution_count": 1,
   "metadata": {},
   "outputs": [
    {
     "name": "stdout",
     "output_type": "stream",
     "text": [
      "40.7 ms ± 1.4 ms per loop (mean ± std. dev. of 7 runs, 10 loops each)\n"
     ]
    }
   ],
   "source": [
    "import numpy as np\n",
    "B = np.random.rand(100000)\n",
    "%timeit sum(B)"
   ]
  },
  {
   "cell_type": "code",
   "execution_count": 2,
   "metadata": {},
   "outputs": [
    {
     "name": "stdout",
     "output_type": "stream",
     "text": [
      "117 µs ± 5.78 µs per loop (mean ± std. dev. of 7 runs, 10000 loops each)\n"
     ]
    }
   ],
   "source": [
    "%timeit np.sum(B)"
   ]
  },
  {
   "cell_type": "code",
   "execution_count": 3,
   "metadata": {},
   "outputs": [
    {
     "name": "stdout",
     "output_type": "stream",
     "text": [
      "57.1 ms ± 1.64 ms per loop (mean ± std. dev. of 7 runs, 10 loops each)\n"
     ]
    }
   ],
   "source": [
    "%%timeit\n",
    "S=0\n",
    "for x in B:\n",
    "    S+=x"
   ]
  },
  {
   "cell_type": "code",
   "execution_count": 10,
   "metadata": {},
   "outputs": [
    {
     "name": "stdout",
     "output_type": "stream",
     "text": [
      "Name: Saumya, Address: Ghaziabad, Street: vaibhav khand, State: UP\n"
     ]
    }
   ],
   "source": [
    "d1={\"name\":\"Saumya\",\"address\":\"Ghaziabad\",\"street\":\"vaibhav khand\",\"state\":\"UP\"}\n",
    "print (\"Name: {}, Address: {}, Street: {}, State: {}\".format(d1['name'], d1['address'], d1['street'], d1['state']))"
   ]
  },
  {
   "cell_type": "code",
   "execution_count": 12,
   "metadata": {},
   "outputs": [
    {
     "name": "stdout",
     "output_type": "stream",
     "text": [
      "1200\n"
     ]
    }
   ],
   "source": [
    "FruitDict = {'Apple': 10, 'banana': 5,'orange':4,'Guava':6}\n",
    "m = 1\n",
    "for i in FruitDict:\n",
    "    m = m*FruitDict[i]\n",
    "print(m)    "
   ]
  },
  {
   "cell_type": "code",
   "execution_count": 17,
   "metadata": {},
   "outputs": [
    {
     "name": "stdout",
     "output_type": "stream",
     "text": [
      "[('Sst', 82), ('Eng', 88), ('Sci', 90), ('Maths', 97)]\n"
     ]
    }
   ],
   "source": [
    "input = [('Eng', 88), ('Sci', 90), ('Maths', 97), ('Sst', 82)]\n",
    "input.sort(key = lambda x: x[1])\n",
    "print(input)"
   ]
  },
  {
   "cell_type": "code",
   "execution_count": 27,
   "metadata": {},
   "outputs": [
    {
     "name": "stdout",
     "output_type": "stream",
     "text": [
      "no condition is satisfied\n"
     ]
    }
   ],
   "source": [
    "def check(a,b):\n",
    "    if a==1:\n",
    "        print(\"coming from if\")\n",
    "    elif b==1:\n",
    "        print(\"coming from elif\")\n",
    "    else:\n",
    "        print(\"no condition is satisfied\")\n",
    "check(2,4)"
   ]
  },
  {
   "cell_type": "code",
   "execution_count": 31,
   "metadata": {},
   "outputs": [
    {
     "name": "stdout",
     "output_type": "stream",
     "text": [
      "66.0\n"
     ]
    }
   ],
   "source": [
    "dict={1:{'name':'Ram','Mark':{'phy':56,'chem':78}},2:{'name':'Hari','Mark':{'phy':76,'chem':88}}}\n",
    "def avg(a,b):\n",
    "    c=a+b\n",
    "    avg=c/2\n",
    "    return avg\n",
    "marks = avg(dict[1]['Mark']['phy'],dict[2]['Mark']['phy'])\n",
    "print(marks)"
   ]
  },
  {
   "cell_type": "code",
   "execution_count": 4,
   "metadata": {},
   "outputs": [
    {
     "name": "stdout",
     "output_type": "stream",
     "text": [
      "Enter number of elements:3\n",
      "12\n",
      "5\n",
      "10\n",
      "[12, 5, 10]\n",
      "Enter the number:5\n",
      "5\n",
      "10\n"
     ]
    }
   ],
   "source": [
    "lst = []\n",
    "n = int(input(\"Enter number of elements:\"))\n",
    "  \n",
    "for i in range(0, n):\n",
    "    element = int(input())\n",
    "  \n",
    "    lst.append(element)\n",
    "      \n",
    "print(lst)\n",
    "d = int(input(\"Enter the number:\"))\n",
    "for i in lst:\n",
    "    if i%d==0:\n",
    "        print(i)"
   ]
  },
  {
   "cell_type": "code",
   "execution_count": 5,
   "metadata": {},
   "outputs": [
    {
     "name": "stdout",
     "output_type": "stream",
     "text": [
      "according to second element\n",
      "[(56, 12), (90, 12), (24, 85), (63, 89)]\n",
      "according to first element\n",
      "[(24, 85), (56, 12), (63, 89), (90, 12)]\n"
     ]
    }
   ],
   "source": [
    "l1 = [56,24,63,90]\n",
    "l2 = [12,85,89,12]\n",
    "t = list(zip(l1,l2))\n",
    "t.sort(key = lambda x:x[1])\n",
    "print(\"according to second element\")\n",
    "print(t)\n",
    "print(\"according to first element\")\n",
    "t.sort()\n",
    "print(t)"
   ]
  }
 ],
 "metadata": {
  "kernelspec": {
   "display_name": "Python 3",
   "language": "python",
   "name": "python3"
  },
  "language_info": {
   "codemirror_mode": {
    "name": "ipython",
    "version": 3
   },
   "file_extension": ".py",
   "mimetype": "text/x-python",
   "name": "python",
   "nbconvert_exporter": "python",
   "pygments_lexer": "ipython3",
   "version": "3.8.5"
  }
 },
 "nbformat": 4,
 "nbformat_minor": 4
}
