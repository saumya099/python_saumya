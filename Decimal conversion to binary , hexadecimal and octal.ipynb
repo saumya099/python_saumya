{
 "cells": [
  {
   "cell_type": "code",
   "execution_count": 1,
   "metadata": {},
   "outputs": [
    {
     "name": "stdout",
     "output_type": "stream",
     "text": [
      "Enter the Decimal value:99\n",
      "99  in Binary :  0b1100011\n",
      "99 in Octal :  0o143\n",
      "99  in Hexadecimal :  0x63\n"
     ]
    }
   ],
   "source": [
    "def decimal_to_binary(dec):\n",
    "    decimal = int(dec)\n",
    "    print(decimal, \" in Binary : \", bin(decimal))\n",
    "def decimal_to_octal(dec):\n",
    "    decimal = int(dec)\n",
    "    print(decimal, \"in Octal : \", oct(decimal))\n",
    "def decimal_to_hexadecimal(dec):\n",
    "    decimal = int(dec)\n",
    "    print(decimal, \" in Hexadecimal : \", hex(decimal))\n",
    "dec = int(input(\"Enter the Decimal value:\"))\n",
    "decimal_to_binary(dec)\n",
    "decimal_to_octal(dec)\n",
    "decimal_to_hexadecimal(dec)"
   ]
  }
 ],
 "metadata": {
  "kernelspec": {
   "display_name": "Python 3",
   "language": "python",
   "name": "python3"
  },
  "language_info": {
   "codemirror_mode": {
    "name": "ipython",
    "version": 3
   },
   "file_extension": ".py",
   "mimetype": "text/x-python",
   "name": "python",
   "nbconvert_exporter": "python",
   "pygments_lexer": "ipython3",
   "version": "3.8.5"
  }
 },
 "nbformat": 4,
 "nbformat_minor": 4
}
