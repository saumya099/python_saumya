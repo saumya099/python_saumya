{
 "cells": [
  {
   "cell_type": "markdown",
   "metadata": {},
   "source": [
    "# Polymorphism in Python"
   ]
  },
  {
   "cell_type": "markdown",
   "metadata": {},
   "source": [
    "In Python, Polymorphism lets us define methods in the child class that have the same name as the methods in the parent class."
   ]
  },
  {
   "cell_type": "code",
   "execution_count": 6,
   "metadata": {},
   "outputs": [
    {
     "name": "stdout",
     "output_type": "stream",
     "text": [
      "meow\n",
      "mewtu 3\n",
      "woof\n",
      "tuffy 5\n"
     ]
    }
   ],
   "source": [
    "# polymorphism in class methods\n",
    "class cat:\n",
    "    def __init__(self,name,age):\n",
    "        self.name=name\n",
    "        self.age=age\n",
    "    def info(self):\n",
    "        print(self.name,self.age)\n",
    "    def sound(self):\n",
    "        print(\"meow\")\n",
    "class dog:\n",
    "    def __init__(self,name,age):\n",
    "        self.name=name\n",
    "        self.age=age\n",
    "    def info(self):\n",
    "        print(self.name,self.age)\n",
    "    def sound(self):\n",
    "        print(\"woof\")\n",
    "a = cat(\"mewtu\",3)\n",
    "b = dog(\"tuffy\",5)\n",
    "for i in (a,b):\n",
    "    i.sound()\n",
    "    i.info()"
   ]
  },
  {
   "cell_type": "code",
   "execution_count": 7,
   "metadata": {},
   "outputs": [
    {
     "name": "stdout",
     "output_type": "stream",
     "text": [
      "Lions can be white or brown or albino.\n",
      "Lions roar.\n",
      "Lion has a muscular, deep-chested body, short, rounded head, round ears, and a hairy tuft at the end of its tail.\n",
      "Whales can be of Blue, Black and Grey colour.\n",
      "Sounds made by whales are clicks, whistles, and pulsed calls.\n",
      "Whales are a widely distributed and diverse group of fully aquatic placental marine mammals. .\n"
     ]
    }
   ],
   "source": [
    "# Polymorphism with a Function and objects:\n",
    "class Lion():\n",
    "    def colour(self):\n",
    "        print(\"Lions can be white or brown or albino.\")\n",
    "    def sound(self):\n",
    "        print(\"Lions roar.\")\n",
    "    def type(self):\n",
    "        print(\"Lion has a muscular, deep-chested body, short, rounded head, round ears, and a hairy tuft at the end of its tail.\")\n",
    "        \n",
    "class Whale():\n",
    "    def colour(self):\n",
    "        print(\"Whales can be of Blue, Black and Grey colour.\")\n",
    "    def sound(self):\n",
    "        print(\"Sounds made by whales are clicks, whistles, and pulsed calls.\")\n",
    "    def type(self):\n",
    "        print(\"Whales are a widely distributed and diverse group of fully aquatic placental marine mammals. .\")\n",
    "\n",
    "def func(obj):\n",
    "    obj.colour()\n",
    "    obj.sound()\n",
    "    obj.type()\n",
    "\n",
    "L = Lion()\n",
    "W = Whale()\n",
    "func(L)\n",
    "func(W)"
   ]
  }
 ],
 "metadata": {
  "kernelspec": {
   "display_name": "Python 3",
   "language": "python",
   "name": "python3"
  },
  "language_info": {
   "codemirror_mode": {
    "name": "ipython",
    "version": 3
   },
   "file_extension": ".py",
   "mimetype": "text/x-python",
   "name": "python",
   "nbconvert_exporter": "python",
   "pygments_lexer": "ipython3",
   "version": "3.8.5"
  }
 },
 "nbformat": 4,
 "nbformat_minor": 4
}
