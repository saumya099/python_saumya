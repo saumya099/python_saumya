{
 "cells": [
  {
   "cell_type": "code",
   "execution_count": 1,
   "metadata": {},
   "outputs": [
    {
     "name": "stdout",
     "output_type": "stream",
     "text": [
      "enter the length:10\n",
      "enter the bredth:5\n",
      "it is a rectangle\n"
     ]
    }
   ],
   "source": [
    "l = int(input(\"enter the length:\"))\n",
    "b = int(input(\"enter the bredth:\"))\n",
    "if l==b:\n",
    "    print(\"it is a square\")\n",
    "else:\n",
    "    print(\"it is a rectangle\")"
   ]
  },
  {
   "cell_type": "code",
   "execution_count": 2,
   "metadata": {},
   "outputs": [
    {
     "name": "stdout",
     "output_type": "stream",
     "text": [
      "enter num 1:45\n",
      "enter num 2:8\n",
      "num 1 is greater than num 2\n"
     ]
    }
   ],
   "source": [
    "a = int(input(\"enter num 1:\"))\n",
    "b = int(input(\"enter num 2:\"))\n",
    "print(\"num 2 is greater than num 1\") if b>a else print(\"num 1 is equal to num 2\") if a==b else print(\"num 1 is greater than num 2\")"
   ]
  },
  {
   "cell_type": "code",
   "execution_count": 3,
   "metadata": {},
   "outputs": [
    {
     "name": "stdout",
     "output_type": "stream",
     "text": [
      "s\n",
      "t\n",
      "r\n",
      "the end\n"
     ]
    }
   ],
   "source": [
    "for val in \"string\":\n",
    "    if val ==\"i\":\n",
    "        break\n",
    "    print(val)\n",
    "print(\"the end\") "
   ]
  },
  {
   "cell_type": "code",
   "execution_count": 4,
   "metadata": {},
   "outputs": [
    {
     "name": "stdout",
     "output_type": "stream",
     "text": [
      "enter a number: 5\n",
      "factorial of  5  is  120\n"
     ]
    }
   ],
   "source": [
    "num = int(input(\"enter a number: \"))\n",
    "fact = 1\n",
    "i = 1 \n",
    "while i <= num:\n",
    "    fact = fact * i\n",
    "    i = i + 1 \n",
    "print(\"factorial of \", num, \" is \", fact)"
   ]
  },
  {
   "cell_type": "code",
   "execution_count": 5,
   "metadata": {},
   "outputs": [
    {
     "name": "stdout",
     "output_type": "stream",
     "text": [
      "Enter number n5\n",
      "Sum of number from 1 to n is:  15\n"
     ]
    }
   ],
   "source": [
    "n = int(input(\"Enter number n\"))\n",
    "sum = 0\n",
    "for num in range(n + 1):\n",
    "    sum = sum + num\n",
    "print(\"Sum of number from 1 to n is: \",sum)"
   ]
  },
  {
   "cell_type": "code",
   "execution_count": 7,
   "metadata": {},
   "outputs": [
    {
     "name": "stdout",
     "output_type": "stream",
     "text": [
      "Enter number of elements : 4\n",
      "dfghjk\n",
      "True\n",
      "23456\n",
      "3.65\n",
      "['dfghjk', 'True', '23456', '3.65']\n",
      "After sorting:  ['23456', '3.65', 'True', 'dfghjk']\n",
      "After reverse sorting:  ['dfghjk', 'True', '3.65', '23456']\n"
     ]
    }
   ],
   "source": [
    "lst = []\n",
    "n = int(input(\"Enter number of elements : \"))\n",
    "  \n",
    "for i in range(0, n):\n",
    "    element = input()\n",
    "  \n",
    "    lst.append(element)\n",
    "      \n",
    "print(lst)\n",
    "lst.sort()\n",
    "print(\"After sorting: \", lst)\n",
    "lst.sort(reverse = True)\n",
    "print(\"After reverse sorting: \", lst)"
   ]
  },
  {
   "cell_type": "code",
   "execution_count": 8,
   "metadata": {},
   "outputs": [
    {
     "name": "stdout",
     "output_type": "stream",
     "text": [
      "[0, 1, 2, 3, 4]\n"
     ]
    }
   ],
   "source": [
    "list1 = [i for i in range(0,10) if i < 5]\n",
    "print (list1)"
   ]
  },
  {
   "cell_type": "code",
   "execution_count": 9,
   "metadata": {},
   "outputs": [
    {
     "name": "stdout",
     "output_type": "stream",
     "text": [
      "()\n"
     ]
    }
   ],
   "source": [
    "t = (\"apple\",\"banana\",\"cherry\",\"orange\",\"kiwi\",\"melon\",\"mango\")\n",
    "print(t[-3:1])"
   ]
  },
  {
   "cell_type": "code",
   "execution_count": 12,
   "metadata": {},
   "outputs": [
    {
     "name": "stdout",
     "output_type": "stream",
     "text": [
      "('banana', 'cherry', 'orange', 1, 2, 3)\n"
     ]
    }
   ],
   "source": [
    "t = (\"banana\",\"cherry\",\"orange\")\n",
    "t1 = (1,2,3)\n",
    "t2 = t+t1\n",
    "print(t2)"
   ]
  }
 ],
 "metadata": {
  "kernelspec": {
   "display_name": "Python 3",
   "language": "python",
   "name": "python3"
  },
  "language_info": {
   "codemirror_mode": {
    "name": "ipython",
    "version": 3
   },
   "file_extension": ".py",
   "mimetype": "text/x-python",
   "name": "python",
   "nbconvert_exporter": "python",
   "pygments_lexer": "ipython3",
   "version": "3.8.5"
  }
 },
 "nbformat": 4,
 "nbformat_minor": 4
}
