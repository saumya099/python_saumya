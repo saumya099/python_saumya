{
 "cells": [
  {
   "cell_type": "code",
   "execution_count": 1,
   "metadata": {},
   "outputs": [
    {
     "name": "stdout",
     "output_type": "stream",
     "text": [
      "Specified list:\n",
      "[2, 4, 6, 8, 10, 12, 14, 16, 18, 20, 22]\n",
      "\n",
      "Is the specified list is sorted T/F?\n",
      "True\n",
      "\n",
      "Specified list:\n",
      "[9, 7, 5, 3, 2, 0, 8, 1, 4, 6]\n",
      "\n",
      "Is the specified list is sorted T/F?\n",
      "False\n"
     ]
    }
   ],
   "source": [
    "def is_sort_list(lists, key=lambda x: x):\n",
    "    for i, e in enumerate(lists[1:]):\n",
    "        if key(e) < key(lists[i]): \n",
    "            return False\n",
    "    return True\n",
    "lists1 = [2,4,6,8,10,12,14,16,18,20,22]\n",
    "print (\"Specified list:\")\n",
    "print(lists1)\n",
    "print(\"\\nIs the specified list is sorted T/F?\")\n",
    "print(is_sort_list(lists1)) \n",
    "lists2 = [9,7,5,3,2,0,8,1,4,6]\n",
    "print (\"\\nSpecified list:\")\n",
    "print(lists2)\n",
    "print(\"\\nIs the specified list is sorted T/F?\")\n",
    "print(is_sort_list(lists2))"
   ]
  }
 ],
 "metadata": {
  "kernelspec": {
   "display_name": "Python 3",
   "language": "python",
   "name": "python3"
  },
  "language_info": {
   "codemirror_mode": {
    "name": "ipython",
    "version": 3
   },
   "file_extension": ".py",
   "mimetype": "text/x-python",
   "name": "python",
   "nbconvert_exporter": "python",
   "pygments_lexer": "ipython3",
   "version": "3.8.5"
  }
 },
 "nbformat": 4,
 "nbformat_minor": 4
}
