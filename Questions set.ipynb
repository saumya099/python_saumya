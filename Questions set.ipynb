{
 "cells": [
  {
   "cell_type": "code",
   "execution_count": 3,
   "metadata": {},
   "outputs": [
    {
     "name": "stdout",
     "output_type": "stream",
     "text": [
      "   A\n",
      "  ABA\n",
      " ABCBA\n",
      "ABCDCBA\n"
     ]
    }
   ],
   "source": [
    "#Q1. Pattern A\n",
    "rows = 4 \n",
    "ch = 'A'\n",
    "\n",
    "for i in range (1, rows+1):\n",
    "   for space in range(rows-i):\n",
    "      print(' ',end='')\n",
    "   for j in range(1, i+1):\n",
    "      print(ch,end=\"\")\n",
    "      ch=ord(ch)+1\n",
    "      ch=chr(ch)\n",
    "   ch=ord(ch)-1\n",
    "   ch=chr(ch)\n",
    "   for k in range(1, i):\n",
    "      ch=ord(ch)-1\n",
    "      ch = chr(ch)\n",
    "      print(ch,end=\"\")  \n",
    "   print()\n",
    "   ch='A'"
   ]
  },
  {
   "cell_type": "code",
   "execution_count": 2,
   "metadata": {},
   "outputs": [
    {
     "name": "stdout",
     "output_type": "stream",
     "text": [
      "    1\n",
      "   21\n",
      "  321\n",
      " 4321\n"
     ]
    }
   ],
   "source": [
    "#Q1. Pattern B\n",
    "n=4 \n",
    "s=3\n",
    "i=1\n",
    "while(i<=n): # first loop.\n",
    "  for k in range(s+1):\n",
    "    print(' ',end='')\n",
    "  j=i\n",
    "  while(j>=1): # inner loop.\n",
    "    print(j,end='')  # print the series.\n",
    "    j=j-1\n",
    "  i=i+1\n",
    "  s=s-1\n",
    "  print(\"\")"
   ]
  },
  {
   "cell_type": "code",
   "execution_count": 4,
   "metadata": {},
   "outputs": [
    {
     "name": "stdout",
     "output_type": "stream",
     "text": [
      "[(10, 20), (5, 17)]\n",
      "[(3, 13), (5, 17), (10, 45), (10, 25), (3, 30), (10, 20), (2, 12)]\n"
     ]
    }
   ],
   "source": [
    "#question 3\n",
    "def intersection(lst1, lst2): \n",
    "    lst3 = [value for value in lst1 if value in lst2] \n",
    "    return lst3 \n",
    "  \n",
    "# Driver Code \n",
    "lst1 = [(10,20),(10,25),(5,17),(3,13),(10,45)] \n",
    "lst2 = [(10,20),(2,12),(5,17),(5,17),(3,30)] \n",
    "print(intersection(lst1, lst2))\n",
    "\n",
    "\n",
    "def Union(lst1, lst2): \n",
    "    final_list = list(set(lst1) | set(lst2)) \n",
    "    return final_list \n",
    "lst1 = [(10,20),(10,25),(5,17),(3,13),(10,45)] \n",
    "lst2 = [(10,20),(2,12),(5,17),(5,17),(3,30)] \n",
    "print(Union(lst1, lst2)) \n",
    "def Union(lst1, lst2): \n",
    "    final_list = lst1 + lst2 \n",
    "    return final_list"
   ]
  }
 ],
 "metadata": {
  "kernelspec": {
   "display_name": "Python 3",
   "language": "python",
   "name": "python3"
  },
  "language_info": {
   "codemirror_mode": {
    "name": "ipython",
    "version": 3
   },
   "file_extension": ".py",
   "mimetype": "text/x-python",
   "name": "python",
   "nbconvert_exporter": "python",
   "pygments_lexer": "ipython3",
   "version": "3.8.5"
  }
 },
 "nbformat": 4,
 "nbformat_minor": 4
}
