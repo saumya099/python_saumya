{
 "cells": [
  {
   "cell_type": "markdown",
   "metadata": {},
   "source": [
    "# QUESTION 1"
   ]
  },
  {
   "cell_type": "code",
   "execution_count": 7,
   "metadata": {},
   "outputs": [
    {
     "name": "stdout",
     "output_type": "stream",
     "text": [
      "Enter how many kilometers you want to convert: 2\n",
      "The 2 kilometer converted to miles is 1.24274 miles\n"
     ]
    }
   ],
   "source": [
    "# Python Program to Convert Kilometers to Miles\n",
    "km = int(input(\"Enter how many kilometers you want to convert: \"))\n",
    "miles = km * 0.62137\n",
    "if km<=0:\n",
    "    print(\"please enter a valid input\")\n",
    "else:\n",
    "    print(\"The {} kilometer converted to miles is {} miles\".format(km,miles))"
   ]
  },
  {
   "cell_type": "markdown",
   "metadata": {},
   "source": [
    "# Question 2"
   ]
  },
  {
   "cell_type": "code",
   "execution_count": 21,
   "metadata": {},
   "outputs": [
    {
     "name": "stdout",
     "output_type": "stream",
     "text": [
      "Enter the celcius degree you want to convert to fahrenheit:36.4\n",
      "36.4 degree celcius to fahrenheit is 97.52\n"
     ]
    }
   ],
   "source": [
    "# Python Program to Convert Celsius To Fahrenheit.\n",
    "c = float(input(\"Enter the celcius degree you want to convert to fahrenheit:\"))\n",
    "f = (c/5)*9+32\n",
    "print(\"{} degree celcius to fahrenheit is {}\".format(c,f))"
   ]
  },
  {
   "cell_type": "markdown",
   "metadata": {},
   "source": [
    "# Question 3"
   ]
  },
  {
   "cell_type": "code",
   "execution_count": 1,
   "metadata": {},
   "outputs": [
    {
     "name": "stdout",
     "output_type": "stream",
     "text": [
      "Enter a number you want to check:-123456\n",
      "The number is Negetive\n"
     ]
    }
   ],
   "source": [
    "# Python Program to Check if a Number is Positive, Negative or 0.\n",
    "Num = int(input(\"Enter a number you want to check:\"))\n",
    "if Num>0:\n",
    "    print(\"The number is Positive\")\n",
    "elif Num<0:\n",
    "    print(\"The number is Negetive\")\n",
    "else:\n",
    "    print(\"The number is 0\")"
   ]
  },
  {
   "cell_type": "markdown",
   "metadata": {},
   "source": [
    "# Question 4"
   ]
  },
  {
   "cell_type": "code",
   "execution_count": 4,
   "metadata": {},
   "outputs": [
    {
     "name": "stdout",
     "output_type": "stream",
     "text": [
      "Enter a number:101\n",
      "The number 101 is odd\n"
     ]
    }
   ],
   "source": [
    "# Python Program to Check if a Number is Odd or Even.\n",
    "Num = int(input(\"Enter a number:\"))\n",
    "if Num%2 == 0:\n",
    "    print(\"The number {} is even\".format(Num))\n",
    "else:\n",
    "    print(\"The number {} is odd\".format(Num))"
   ]
  },
  {
   "cell_type": "markdown",
   "metadata": {},
   "source": [
    "# Question 5"
   ]
  },
  {
   "cell_type": "code",
   "execution_count": 14,
   "metadata": {},
   "outputs": [
    {
     "name": "stdout",
     "output_type": "stream",
     "text": [
      "Please enter a year you want to check2022\n",
      "The year 2022 is not a leap year\n"
     ]
    }
   ],
   "source": [
    "# Python Program to Check Leap Year.\n",
    "y = int(input(\"Please enter a year you want to check\"))\n",
    "if ((y%4==0) and (y%100!=0)) or (y%400==0):\n",
    "    print(\"The year {} is a leap year\".format(y))\n",
    "else:\n",
    "    print(\"The year {} is not a leap year\".format(y))"
   ]
  },
  {
   "cell_type": "markdown",
   "metadata": {},
   "source": [
    "# Question 6"
   ]
  },
  {
   "cell_type": "code",
   "execution_count": 29,
   "metadata": {},
   "outputs": [
    {
     "name": "stdout",
     "output_type": "stream",
     "text": [
      "Please enter the first, second and third number:2 99 101\n",
      "the largest among the 3 numbers is 101\n"
     ]
    }
   ],
   "source": [
    "# Python Program to Find the Largest Among Three Numbers.\n",
    "a,b,c = [int(x) for x in input(\"Please enter the first, second and third number:\").split()]\n",
    "greatest = max(a,b,c)\n",
    "print(\"the largest among the 3 numbers is {}\".format(greatest))"
   ]
  },
  {
   "cell_type": "markdown",
   "metadata": {},
   "source": [
    "# Question 7"
   ]
  },
  {
   "cell_type": "code",
   "execution_count": 43,
   "metadata": {},
   "outputs": [
    {
     "name": "stdout",
     "output_type": "stream",
     "text": [
      "Please enter a number:0\n",
      "num is not prime\n"
     ]
    }
   ],
   "source": [
    "# Write a Python Program to check if a number is prime or not.\n",
    "num = int(input(\"Please enter a number:\"))\n",
    "if num>1:\n",
    "    for i in range(2,num):\n",
    "        if (num%i)==0:\n",
    "            print(\"the number is not prime\")\n",
    "            break\n",
    "    else:\n",
    "        print(\"the number is prime\")\n",
    "else:\n",
    "    print(\"num is not prime\")"
   ]
  },
  {
   "cell_type": "markdown",
   "metadata": {},
   "source": [
    "# Question 8"
   ]
  },
  {
   "cell_type": "code",
   "execution_count": 52,
   "metadata": {},
   "outputs": [
    {
     "name": "stdout",
     "output_type": "stream",
     "text": [
      "Enter the starting of the interval:1\n",
      "Enter the ending of the interval:10\n",
      "2\n",
      "3\n",
      "5\n",
      "7\n"
     ]
    }
   ],
   "source": [
    "#Python program to display all the prime numbers within an interval\n",
    "start = int(input(\"Enter the starting of the interval:\"))\n",
    "end = int(input(\"Enter the ending of the interval:\"))\n",
    "for x in range(start,end+1):\n",
    "    if x>1:\n",
    "        for i in range(2,x):\n",
    "            if (x%i)==0:\n",
    "                break\n",
    "        else:\n",
    "            print(x)"
   ]
  },
  {
   "cell_type": "markdown",
   "metadata": {},
   "source": [
    "# Question 9"
   ]
  },
  {
   "cell_type": "code",
   "execution_count": 53,
   "metadata": {},
   "outputs": [
    {
     "name": "stdout",
     "output_type": "stream",
     "text": [
      "Enter the number whose factorial you want to print:5\n",
      "120\n"
     ]
    }
   ],
   "source": [
    "#Python program to find the factorial of a number.\n",
    "num = int(input(\"Enter the number whose factorial you want to print:\"))\n",
    "def factorial(num):\n",
    "    if num==1:\n",
    "        return num\n",
    "    elif num<1:\n",
    "        return (\"Please enter a positive integer\")\n",
    "    else:\n",
    "        return num*factorial(num-1)\n",
    "print(factorial(num))"
   ]
  },
  {
   "cell_type": "markdown",
   "metadata": {},
   "source": [
    "# Question 9"
   ]
  },
  {
   "cell_type": "code",
   "execution_count": 58,
   "metadata": {},
   "outputs": [
    {
     "name": "stdout",
     "output_type": "stream",
     "text": [
      "Enter the number whose table you want to print:17\n",
      "17 x 1 = 17\n",
      "17 x 2 = 34\n",
      "17 x 3 = 51\n",
      "17 x 4 = 68\n",
      "17 x 5 = 85\n",
      "17 x 6 = 102\n",
      "17 x 7 = 119\n",
      "17 x 8 = 136\n",
      "17 x 9 = 153\n",
      "17 x 10 = 170\n"
     ]
    }
   ],
   "source": [
    "#Python Program to Display the multiplication Table.\n",
    "num = int(input(\"Enter the number whose table you want to print:\"))\n",
    "for i in range (1 , 11):\n",
    "    print(num, \"x\", i, \"=\", num*i)"
   ]
  },
  {
   "cell_type": "markdown",
   "metadata": {},
   "source": [
    "# Question 10"
   ]
  },
  {
   "cell_type": "code",
   "execution_count": 59,
   "metadata": {},
   "outputs": [
    {
     "name": "stdout",
     "output_type": "stream",
     "text": [
      "Fibonacci Sequence\n",
      "Enter the number of terms:10\n",
      "0\n",
      "1\n",
      "1\n",
      "2\n",
      "3\n",
      "5\n",
      "8\n",
      "13\n",
      "21\n",
      "34\n"
     ]
    }
   ],
   "source": [
    "#Python Program to Print the Fibonacci sequence.\n",
    "def fib(n):\n",
    "    if n<=1:\n",
    "        return n\n",
    "    else:\n",
    "        return(fib(n-1)+fib(n-2))\n",
    "print(\"Fibonacci Sequence\")\n",
    "n = int(input(\"Enter the number of terms:\"))\n",
    "for i in range(n):\n",
    "    print(fib(i))"
   ]
  },
  {
   "cell_type": "markdown",
   "metadata": {},
   "source": [
    "# Question 11"
   ]
  },
  {
   "cell_type": "code",
   "execution_count": 63,
   "metadata": {},
   "outputs": [
    {
     "name": "stdout",
     "output_type": "stream",
     "text": [
      "Enter a 3 digit number407\n",
      "407 is an armstrong number\n"
     ]
    }
   ],
   "source": [
    "#Python Program to Check Armstrong Number (for 3 digits).\n",
    "num = int(input(\"Enter a 3 digit number\"))\n",
    "sum = 0\n",
    "temp = num\n",
    "while(temp>0):\n",
    "    a = temp%10\n",
    "    sum+= a **3\n",
    "    temp//=10\n",
    "if num == sum:\n",
    "    print(\"{} is an armstrong number\".format(num))\n",
    "else:\n",
    "    print(\"{} is not an armstrong number\".format(num))"
   ]
  }
 ],
 "metadata": {
  "kernelspec": {
   "display_name": "Python 3",
   "language": "python",
   "name": "python3"
  },
  "language_info": {
   "codemirror_mode": {
    "name": "ipython",
    "version": 3
   },
   "file_extension": ".py",
   "mimetype": "text/x-python",
   "name": "python",
   "nbconvert_exporter": "python",
   "pygments_lexer": "ipython3",
   "version": "3.8.5"
  }
 },
 "nbformat": 4,
 "nbformat_minor": 4
}
