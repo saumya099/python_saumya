{
 "cells": [
  {
   "cell_type": "code",
   "execution_count": 6,
   "metadata": {},
   "outputs": [
    {
     "name": "stdout",
     "output_type": "stream",
     "text": [
      "Enter the number you want to check:121\n",
      "'Yes' the number is a palindrome number\n"
     ]
    }
   ],
   "source": [
    "# Python program to check if a user input number is a palindrome number or not.  \n",
    "n = int(input(\"Enter the number you want to check:\"))\n",
    "temp = n\n",
    "rev = 0\n",
    "while(n>0):\n",
    "    s = n%10\n",
    "    rev = rev*10+s\n",
    "    n = n//10\n",
    "if(temp==rev):\n",
    "    print(\"'Yes' the number is a Palindrome\")\n",
    "else:\n",
    "    print(\"'No' the number is not a Palindrome\")"
   ]
  },
  {
   "cell_type": "code",
   "execution_count": 12,
   "metadata": {},
   "outputs": [
    {
     "name": "stdout",
     "output_type": "stream",
     "text": [
      "Enter the String you want to check: abcba\n",
      "'Yes' the string is a Palindrome\n"
     ]
    }
   ],
   "source": [
    "# Python program to check if a user input string is a palindrome number or not.\n",
    "string = input(\"Enter the String you want to check: \")\n",
    "if(string==string[::-1]):\n",
    "    print(\"'Yes' the string is a Palindrome\")\n",
    "else:\n",
    "    print(\"'No' the string is not a palindrome\")"
   ]
  }
 ],
 "metadata": {
  "kernelspec": {
   "display_name": "Python 3",
   "language": "python",
   "name": "python3"
  },
  "language_info": {
   "codemirror_mode": {
    "name": "ipython",
    "version": 3
   },
   "file_extension": ".py",
   "mimetype": "text/x-python",
   "name": "python",
   "nbconvert_exporter": "python",
   "pygments_lexer": "ipython3",
   "version": "3.8.5"
  }
 },
 "nbformat": 4,
 "nbformat_minor": 4
}
