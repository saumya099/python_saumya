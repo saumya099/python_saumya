{
 "cells": [
  {
   "cell_type": "markdown",
   "metadata": {},
   "source": [
    "# Stack Data Structure"
   ]
  },
  {
   "cell_type": "code",
   "execution_count": 8,
   "metadata": {},
   "outputs": [
    {
     "name": "stdout",
     "output_type": "stream",
     "text": [
      "[2, 99, 101, 'Saumya', 'Priyadarshini', [1, 2, 3], [1, 5, 9]]\n",
      "\n",
      "[2, 99, 101, 'Saumya', 'Priyadarshini', [1, 2, 3]]\n",
      "\n",
      "[2, 99, 101, 'Saumya', 'Priyadarshini']\n"
     ]
    }
   ],
   "source": [
    "# User defined STACK data-structure , use the PUSH() and POP() method.\n",
    "class Stack:\n",
    "    arr = []\n",
    "    def push(self, ele):\n",
    "        self.arr.append(ele)\n",
    "    def pop(self):\n",
    "        self.arr.pop()\n",
    "    def printStack(self):\n",
    "        print(self.arr)\n",
    "stack = Stack()\n",
    "stack.push(2)\n",
    "stack.push(99)\n",
    "stack.push(101)\n",
    "stack.push(\"Saumya\")\n",
    "stack.push(\"Priyadarshini\")\n",
    "stack.push([1, 2, 3])\n",
    "stack.push([1, 5, 9])\n",
    "stack.printStack()\n",
    "stack.pop()\n",
    "print()\n",
    "stack.printStack()\n",
    "stack.pop()\n",
    "print()\n",
    "stack.printStack()"
   ]
  },
  {
   "cell_type": "markdown",
   "metadata": {},
   "source": [
    "# Queue Data Structure"
   ]
  },
  {
   "cell_type": "code",
   "execution_count": 7,
   "metadata": {},
   "outputs": [
    {
     "name": "stdout",
     "output_type": "stream",
     "text": [
      "[1, 10, [1, 2, 3], [1, 5, 9]]\n",
      "\n",
      "[10, [1, 2, 3], [1, 5, 9]]\n",
      "\n",
      "[[1, 2, 3], [1, 5, 9]]\n"
     ]
    }
   ],
   "source": [
    "# User defined QUEUE data-structure , using the INSERT() and REMOVE() method.\n",
    "class Queue:\n",
    "    arr = []\n",
    "    def insert(self, ele):\n",
    "        self.arr.append(ele)\n",
    "    def remove(self):\n",
    "        self.arr.pop(0)\n",
    "    def printQueue(self):\n",
    "        print(self.arr)\n",
    "queue = Queue()\n",
    "queue.insert(1)\n",
    "queue.insert(10)\n",
    "queue.insert([1, 2, 3])\n",
    "queue.insert([1, 5, 9])\n",
    "queue.printQueue()\n",
    "queue.remove()\n",
    "print()\n",
    "queue.printQueue()\n",
    "queue.remove()\n",
    "print()\n",
    "queue.printQueue()"
   ]
  }
 ],
 "metadata": {
  "kernelspec": {
   "display_name": "Python 3",
   "language": "python",
   "name": "python3"
  },
  "language_info": {
   "codemirror_mode": {
    "name": "ipython",
    "version": 3
   },
   "file_extension": ".py",
   "mimetype": "text/x-python",
   "name": "python",
   "nbconvert_exporter": "python",
   "pygments_lexer": "ipython3",
   "version": "3.8.5"
  }
 },
 "nbformat": 4,
 "nbformat_minor": 4
}
