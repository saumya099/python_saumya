{
 "cells": [
  {
   "cell_type": "markdown",
   "metadata": {},
   "source": [
    "# Pendulum/Time Function"
   ]
  },
  {
   "cell_type": "code",
   "execution_count": 2,
   "metadata": {},
   "outputs": [
    {
     "name": "stdout",
     "output_type": "stream",
     "text": [
      "Requirement already satisfied: pendulum in c:\\programdata\\anaconda3\\lib\\site-packages (2.1.2)\n",
      "Requirement already satisfied: python-dateutil<3.0,>=2.6 in c:\\programdata\\anaconda3\\lib\\site-packages (from pendulum) (2.8.1)\n",
      "Requirement already satisfied: pytzdata>=2020.1 in c:\\programdata\\anaconda3\\lib\\site-packages (from pendulum) (2020.1)\n",
      "Requirement already satisfied: six>=1.5 in c:\\programdata\\anaconda3\\lib\\site-packages (from python-dateutil<3.0,>=2.6->pendulum) (1.15.0)\n"
     ]
    }
   ],
   "source": [
    "!pip install pendulum"
   ]
  },
  {
   "cell_type": "code",
   "execution_count": 3,
   "metadata": {},
   "outputs": [
    {
     "name": "stdout",
     "output_type": "stream",
     "text": [
      "1.Printing the timezone name\n",
      "Asia/Calcutta \n",
      "\n"
     ]
    }
   ],
   "source": [
    "import pendulum\n",
    "import datetime\n",
    "#1.PRINTING THE TIMEZONE NAME\n",
    "print(\"1.Printing the timezone name\")\n",
    "dt = pendulum.local(2015, 2, 5)\n",
    "print(dt.timezone.name,\"\\n\")"
   ]
  },
  {
   "cell_type": "code",
   "execution_count": 4,
   "metadata": {},
   "outputs": [
    {
     "name": "stdout",
     "output_type": "stream",
     "text": [
      "\n",
      "2.Printing the time and date for a perticular timezone\n",
      "2021-06-24T00:01:16.412199+05:30\n",
      "2021-06-24T00:00:00+05:30\n",
      "2021-06-25T00:00:00+05:30\n",
      "2021-06-23T00:00:00+05:30 \n",
      "\n"
     ]
    }
   ],
   "source": [
    "import pendulum\n",
    "import datetime\n",
    "#2.DISPLAYING TODAY'S , YESTERDAY'S , TOMORROW'S ,AND CURRENT DATE AND TIME OF A PERTICULAR LOCATION\n",
    "print(\"\\n2.Printing the time and date for a perticular timezone\")\n",
    "now = pendulum.now()\n",
    "print(now)\n",
    "today = pendulum.today()\n",
    "print(today)\n",
    "tomorrow = pendulum.tomorrow('Asia/Calcutta')\n",
    "print(tomorrow)\n",
    "yesterday = pendulum.yesterday()\n",
    "print(yesterday,\"\\n\")"
   ]
  },
  {
   "cell_type": "code",
   "execution_count": 5,
   "metadata": {},
   "outputs": [
    {
     "name": "stdout",
     "output_type": "stream",
     "text": [
      "\n",
      "3.Printing the time format as specified\n",
      "2021-02-03T22:00:00+00:00\n"
     ]
    }
   ],
   "source": [
    "import pendulum\n",
    "import datetime\n",
    "#3.DISPLAYING DATE AND TIME IN A FORMAT\n",
    "print(\"\\n3.Printing the time format as specified\")\n",
    "dt = pendulum.from_format('2021-02-03 22', 'YYYY-MM-DD HH')\n",
    "print(dt)"
   ]
  }
 ],
 "metadata": {
  "kernelspec": {
   "display_name": "Python 3",
   "language": "python",
   "name": "python3"
  },
  "language_info": {
   "codemirror_mode": {
    "name": "ipython",
    "version": 3
   },
   "file_extension": ".py",
   "mimetype": "text/x-python",
   "name": "python",
   "nbconvert_exporter": "python",
   "pygments_lexer": "ipython3",
   "version": "3.8.5"
  }
 },
 "nbformat": 4,
 "nbformat_minor": 4
}
