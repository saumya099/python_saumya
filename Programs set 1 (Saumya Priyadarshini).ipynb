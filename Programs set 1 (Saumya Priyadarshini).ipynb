{
 "cells": [
  {
   "cell_type": "markdown",
   "metadata": {},
   "source": [
    "# Program 1"
   ]
  },
  {
   "cell_type": "code",
   "execution_count": 4,
   "metadata": {},
   "outputs": [
    {
     "name": "stdout",
     "output_type": "stream",
     "text": [
      "enter the number whose table you want to print:5\n",
      "5 x 1 = 5\n",
      "5 x 2 = 10\n",
      "5 x 3 = 15\n",
      "5 x 4 = 20\n",
      "5 x 5 = 25\n",
      "5 x 6 = 30\n",
      "5 x 7 = 35\n",
      "5 x 8 = 40\n",
      "5 x 9 = 45\n",
      "5 x 10 = 50\n"
     ]
    }
   ],
   "source": [
    "# Write a program to print table of n, where n is entered by the user.\n",
    "num = int(input(\"enter the number whose table you want to print:\"))\n",
    "for i in range (1 , 11):\n",
    "    print(num, \"x\", i, \"=\", num*i)"
   ]
  },
  {
   "cell_type": "markdown",
   "metadata": {},
   "source": [
    "# Program 2"
   ]
  },
  {
   "cell_type": "code",
   "execution_count": 3,
   "metadata": {},
   "outputs": [
    {
     "name": "stdout",
     "output_type": "stream",
     "text": [
      "Enter the number n:5\n",
      "15.0\n"
     ]
    }
   ],
   "source": [
    "# Write a program to print sum of n natural numbers, where n is entered by the user.\n",
    "n = int(input(\"Enter the number n:\"))\n",
    "sum = n*(n+1)/2\n",
    "if(n<0):\n",
    "    print(\"Enter valid natural number\")\n",
    "else:\n",
    "    print(sum)"
   ]
  },
  {
   "cell_type": "markdown",
   "metadata": {},
   "source": [
    "# Program 3"
   ]
  },
  {
   "cell_type": "code",
   "execution_count": 2,
   "metadata": {},
   "outputs": [
    {
     "name": "stdout",
     "output_type": "stream",
     "text": [
      "Enter the number whose factorial you want to print:5\n",
      "120\n"
     ]
    }
   ],
   "source": [
    "# Write a program to print the factorial of the given number, where number is entered by the user. \n",
    "num = int(input(\"Enter the number whose factorial you want to print:\"))\n",
    "def factorial(num):\n",
    "    if num==1:\n",
    "        return num\n",
    "    elif num<1:\n",
    "        return (\"Please enter a positive integer\")\n",
    "    else:\n",
    "        return num*factorial(num-1)\n",
    "print(factorial(num))"
   ]
  },
  {
   "cell_type": "markdown",
   "metadata": {},
   "source": [
    "# Program 4"
   ]
  },
  {
   "cell_type": "code",
   "execution_count": 1,
   "metadata": {},
   "outputs": [
    {
     "name": "stdout",
     "output_type": "stream",
     "text": [
      "Enter the total number of sales in a month:5\n",
      "5\n",
      "10\n",
      "15\n",
      "10\n",
      "10\n",
      "Average sales of the month is  10.0\n"
     ]
    }
   ],
   "source": [
    "# Write a program to input sales of the month and calculate the average sales of that month.\n",
    "s = list()\n",
    "n = int(input(\"Enter the total number of sales in a month:\"))\n",
    "for i in range (int(n)):\n",
    "    a = int(input(\"\"))\n",
    "    s.append(int(a))\n",
    "sales_sum = sum(s)    \n",
    "avg = sales_sum/n\n",
    "print(\"Average sales of the month is \", avg)"
   ]
  }
 ],
 "metadata": {
  "kernelspec": {
   "display_name": "Python 3",
   "language": "python",
   "name": "python3"
  },
  "language_info": {
   "codemirror_mode": {
    "name": "ipython",
    "version": 3
   },
   "file_extension": ".py",
   "mimetype": "text/x-python",
   "name": "python",
   "nbconvert_exporter": "python",
   "pygments_lexer": "ipython3",
   "version": "3.8.5"
  }
 },
 "nbformat": 4,
 "nbformat_minor": 4
}
