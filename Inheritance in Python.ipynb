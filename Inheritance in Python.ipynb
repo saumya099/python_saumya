{
 "cells": [
  {
   "cell_type": "markdown",
   "metadata": {},
   "source": [
    "# Inheritance in Python"
   ]
  },
  {
   "cell_type": "code",
   "execution_count": 1,
   "metadata": {},
   "outputs": [
    {
     "name": "stdout",
     "output_type": "stream",
     "text": [
      "from lion class\n",
      "from animal class\n",
      "from tiger class\n"
     ]
    }
   ],
   "source": [
    "class animal:\n",
    "    def eat(self):\n",
    "        print(\"from animal class\")\n",
    "class tiger(animal):\n",
    "    def roar(self):\n",
    "        print(\"from tiger class\")\n",
    "class lion(tiger):\n",
    "    def king(self):\n",
    "        print(\"from lion class\")\n",
    "l = lion()\n",
    "l.king()\n",
    "l.eat()\n",
    "l.roar()"
   ]
  },
  {
   "cell_type": "code",
   "execution_count": 2,
   "metadata": {},
   "outputs": [
    {
     "name": "stdout",
     "output_type": "stream",
     "text": [
      "this is a big tree\n",
      "it gives the fruit\n",
      "mango is the fruit\n"
     ]
    }
   ],
   "source": [
    "class tree:\n",
    "    def main(self):\n",
    "        print(\"this is a big tree\")\n",
    "class fruit:\n",
    "    def head(self):\n",
    "        print(\"it gives the fruit\")\n",
    "class mango(tree,fruit):\n",
    "    def derived(self):\n",
    "        print(\"mango is the fruit\")\n",
    "a = mango()\n",
    "a.main()\n",
    "a.head()\n",
    "a.derived()"
   ]
  }
 ],
 "metadata": {
  "kernelspec": {
   "display_name": "Python 3",
   "language": "python",
   "name": "python3"
  },
  "language_info": {
   "codemirror_mode": {
    "name": "ipython",
    "version": 3
   },
   "file_extension": ".py",
   "mimetype": "text/x-python",
   "name": "python",
   "nbconvert_exporter": "python",
   "pygments_lexer": "ipython3",
   "version": "3.8.5"
  }
 },
 "nbformat": 4,
 "nbformat_minor": 4
}
